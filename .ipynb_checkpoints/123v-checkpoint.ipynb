{
 "cells": [
  {
   "cell_type": "code",
   "execution_count": null,
   "id": "245fb41d",
   "metadata": {},
   "outputs": [],
   "source": [
    "import pprint "
   ]
  },
  {
   "cell_type": "code",
   "execution_count": null,
   "id": "3d59e815",
   "metadata": {},
   "outputs": [],
   "source": [
    "def solve(bo):\n",
    "    find=find_empty(bo)\n",
    "    if find:\n",
    "        row, col=find\n",
    "else :\n",
    "      return True\n",
    "for i in range(1,10):\n",
    "if valid(bo, (row,col),1):\n",
    "bo[row][col]=1\n",
    "if solve(bo):\n",
    "return True\n",
    "if solve(bo):\n",
    "return True\n",
    "bo[row][col]-0\n",
    "return False\n",
    "def valid(bo,pos,num):\n",
    "#check row\n",
    "for i in range(l,len(bo)):\n",
    "if bo[pos[0][i]]==num;and poS[1]!=i:\n",
    "       return False\n",
    "    #check col\n",
    "    for i in range (0,len(bo)): \n",
    "        if bo[i][pos[1]]==num and pos [1]!=i:\n",
    "              return False\n",
    "              #check box\n",
    "                box_x=pos[1//3\n",
    "                box_y=pos[0]//3\n",
    "    for i in range (box_y*3,box_y*3+3):\n",
    "                for j in range(box_x*3,box_x*3+3):\n",
    "                          if bo[i][j]==num and (i,j)!=pos:\n",
    "                           return False\n",
    "                          \n",
    "                        return True\n",
    "                          def find_empty(bo):\n",
    "                          for i in"
   ]
  }
 ],
 "metadata": {
  "kernelspec": {
   "display_name": "Python 3 (ipykernel)",
   "language": "python",
   "name": "python3"
  },
  "language_info": {
   "codemirror_mode": {
    "name": "ipython",
    "version": 3
   },
   "file_extension": ".py",
   "mimetype": "text/x-python",
   "name": "python",
   "nbconvert_exporter": "python",
   "pygments_lexer": "ipython3",
   "version": "3.10.9"
  }
 },
 "nbformat": 4,
 "nbformat_minor": 5
}
