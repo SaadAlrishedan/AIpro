{
 "cells": [
  {
   "cell_type": "code",
   "execution_count": 12,
   "id": "9e0d76a2",
   "metadata": {},
   "outputs": [],
   "source": [
    "  وءوئوئوئوزظء"
   ]
  },
  {
   "cell_type": "code",
   "execution_count": null,
   "id": "a2345d1f",
   "metadata": {},
   "outputs": [],
   "source": [
    "نمءئز"
   ]
  },
  {
   "cell_type": "code",
   "execution_count": null,
   "id": "2bc0028a",
   "metadata": {},
   "outputs": [],
   "source": []
  },
  {
   "cell_type": "code",
   "execution_count": null,
   "id": "55f9bc0c",
   "metadata": {},
   "outputs": [],
   "source": []
  }
 ],
 "metadata": {
  "kernelspec": {
   "display_name": "Python 3 (ipykernel)",
   "language": "python",
   "name": "python3"
  },
  "language_info": {
   "codemirror_mode": {
    "name": "ipython",
    "version": 3
   },
   "file_extension": ".py",
   "mimetype": "text/x-python",
   "name": "python",
   "nbconvert_exporter": "python",
   "pygments_lexer": "ipython3",
   "version": "3.10.9"
  }
 },
 "nbformat": 4,
 "nbformat_minor": 5
}
