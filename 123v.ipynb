{
 "cells": [
  {
   "cell_type": "code",
   "execution_count": 7,
   "id": "245fb41d",
   "metadata": {},
   "outputs": [],
   "source": [
    "import pprint "
   ]
  },
  {
   "cell_type": "code",
   "execution_count": 9,
   "id": "93677ed8",
   "metadata": {},
   "outputs": [
    {
     "ename": "IndentationError",
     "evalue": "unindent does not match any outer indentation level (<tokenize>, line 22)",
     "output_type": "error",
     "traceback": [
      "\u001b[1;36m  File \u001b[1;32m<tokenize>:22\u001b[1;36m\u001b[0m\n\u001b[1;33m    for i in range (0,len(bo)):\u001b[0m\n\u001b[1;37m    ^\u001b[0m\n\u001b[1;31mIndentationError\u001b[0m\u001b[1;31m:\u001b[0m unindent does not match any outer indentation level\n"
     ]
    }
   ],
   "source": [
    "def solve(bo):\n",
    "    find=find_empty(bo)\n",
    "    if find:\n",
    "        row, col=find\n",
    "else :\n",
    "      return True\n",
    "for i in range(1,10):\n",
    "if valid(bo, (row,col),1):\n",
    "bo[row][col]=1\n",
    "if solve(bo):\n",
    "return True\n",
    "if solve(bo):\n",
    "return True\n",
    "bo[row][col]-0\n",
    "return False\n",
    "def valid(bo,pos,num):\n",
    "#check row\n",
    "for i in range(l,len(bo)):\n",
    "if bo[pos[0][i]]==num;and poS[1]!=i:\n",
    "       return False\n",
    "    #check col\n",
    "    for i in range (0,len(bo)): \n",
    "        if bo[i][pos[1]]==num and pos [1]!=i:\n",
    "              return False\n",
    "              #check box\n",
    "                box_x=pos[1//3\n",
    "                box_y=pos[0]//3\n",
    "    for i in range (box_y*3,box_y*3+3):\n",
    "                for j in range(box_x*3,box_x*3+3):\n",
    "                          if bo[i][j]==num and (i,j)!=pos:\n",
    "                           return False\n",
    "                          \n",
    "                        return True\n",
    "                          def find_empty(bo):  \n",
    "                              for i in range(len(bo)):\n",
    "                             for j  in range(len(bo[0])):\n",
    "                          if bo [i][j]==0:\n",
    "                          return (i,j)\n",
    "                          return none\n",
    "def prinnt_board(bo):\n",
    "for i in range(len(bo)):\n",
    "1f 1%3==0 and i!=8:\n",
    "print(\"--------\")\n",
    "for j in range(len(bo[e])):\n",
    "if j%3==8:\n",
    "print('|',end=\"')\n",
    "if j==8:\n",
    "print(bo[i][j],end='/n')\n",
    "else:\n",
    "print(str(bo[i][j])+'',end='')\n",
    "      borad=[\n",
    "           [7,8,0,4,0,0,1,2,0],\n",
    "           [6,0,0,0,7,5,0,0,9],\n",
    "           [0,0,0,6,0,1,0,0,9],\n",
    "           [0,0,7,0,4,0,2,6,0],\n",
    "           [0,0,1,0,5,0,9,3,0],\n",
    "           [9,0,4,0,6,0,0,0,5],\n",
    "           [0,7,0,3,0,0,0,1,2],\n",
    "           [1,2,0,0,0,7,4,0,0],\n",
    "           [0,4,9,2,0,6,0,0,7],\n",
    "  ]  \n",
    "      pp=pprint.PrettyPrinter(width=41,compact=True)\n",
    "solve(board)\n",
    "pp.pprint(board)"
   ]
  },
  {
   "cell_type": "code",
   "execution_count": null,
   "id": "738a5fbf",
   "metadata": {},
   "outputs": [],
   "source": []
  },
  {
   "cell_type": "code",
   "execution_count": null,
   "id": "c43cef24",
   "metadata": {},
   "outputs": [],
   "source": []
  },
  {
   "cell_type": "code",
   "execution_count": null,
   "id": "a7fe7be4",
   "metadata": {},
   "outputs": [],
   "source": []
  },
  {
   "cell_type": "code",
   "execution_count": null,
   "id": "1ecbe1d8",
   "metadata": {},
   "outputs": [],
   "source": []
  }
 ],
 "metadata": {
  "kernelspec": {
   "display_name": "Python 3 (ipykernel)",
   "language": "python",
   "name": "python3"
  },
  "language_info": {
   "codemirror_mode": {
    "name": "ipython",
    "version": 3
   },
   "file_extension": ".py",
   "mimetype": "text/x-python",
   "name": "python",
   "nbconvert_exporter": "python",
   "pygments_lexer": "ipython3",
   "version": "3.10.9"
  }
 },
 "nbformat": 4,
 "nbformat_minor": 5
}
